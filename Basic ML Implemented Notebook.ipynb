{
 "cells": [
  {
   "cell_type": "code",
   "execution_count": 1,
   "metadata": {},
   "outputs": [],
   "source": [
    "import numpy as np # linear algebra\n",
    "import pandas as pd # data processing, CSV file I/O (e.g. pd.read_csv)\n",
    "import matplotlib.pyplot as plt\n",
    "import string\n",
    "from nltk.stem import SnowballStemmer\n",
    "from nltk.corpus import stopwords\n",
    "from sklearn.model_selection import train_test_split"
   ]
  },
  {
   "cell_type": "code",
   "execution_count": 2,
   "metadata": {},
   "outputs": [
    {
     "name": "stderr",
     "output_type": "stream",
     "text": [
      "2it [00:01,  1.10it/s]\n"
     ]
    }
   ],
   "source": [
    "from feature_engineering import hand_features"
   ]
  },
  {
   "cell_type": "code",
   "execution_count": 3,
   "metadata": {},
   "outputs": [
    {
     "name": "stdout",
     "output_type": "stream",
     "text": [
      "ok\n"
     ]
    }
   ],
   "source": [
    "trainFile=pd.read_csv(\"/home/ad/Desktop/fnc/ML/models/data/train_merged.csv\",encoding='latin-1')\n",
    "testFile=pd.read_csv('/home/ad/Desktop/fnc/ML/models/data/test_merged.csv', encoding='latin-1')\n",
    "\n",
    "\n",
    "\n",
    "trainFile['Stance'].value_counts()\n",
    "trainFile.head()\n",
    "print (\"ok\")"
   ]
  },
  {
   "cell_type": "code",
   "execution_count": 4,
   "metadata": {},
   "outputs": [],
   "source": [
    "train_body= trainFile['articleBody'].copy()\n",
    "test_body= testFile['articleBody'].copy()\n",
    "\n",
    "train_head= trainFile['Headline'].copy()\n",
    "test_head= testFile['Headline'].copy()\n",
    "train_body_fea= train_body[:]\n",
    "train_head_fea= train_head[:]\n",
    "test_body_fea= test_body[:]\n",
    "test_head_fea= test_head[:]"
   ]
  },
  {
   "cell_type": "code",
   "execution_count": 5,
   "metadata": {},
   "outputs": [],
   "source": [
    "train_hand_features_mat= np.zeros((len(train_head_fea),1))\n",
    "test_hand_features_mat= np.zeros((len(train_head_fea),1))"
   ]
  },
  {
   "cell_type": "code",
   "execution_count": 6,
   "metadata": {},
   "outputs": [],
   "source": [
    "from tqdm import tqdm"
   ]
  },
  {
   "cell_type": "code",
   "execution_count": 7,
   "metadata": {},
   "outputs": [
    {
     "name": "stderr",
     "output_type": "stream",
     "text": [
      "49972it [10:19, 80.66it/s] \n"
     ]
    }
   ],
   "source": [
    "\n",
    "train_hand_features_mat= hand_features(train_head_fea,train_body_fea)\n"
   ]
  },
  {
   "cell_type": "code",
   "execution_count": 8,
   "metadata": {},
   "outputs": [
    {
     "name": "stdout",
     "output_type": "stream",
     "text": [
      "<class 'numpy.ndarray'> (49972, 30)\n"
     ]
    }
   ],
   "source": [
    "print(type(train_hand_features_mat), train_hand_features_mat.shape)\n"
   ]
  },
  {
   "cell_type": "code",
   "execution_count": 9,
   "metadata": {},
   "outputs": [],
   "source": [
    "df_train_hand = pd.DataFrame(data=np.array(train_hand_features_mat).astype(float))\n",
    "df_train_hand.to_csv('train_hand_features.csv', sep=' ', header=False, float_format='%.8f', index=False)"
   ]
  },
  {
   "cell_type": "code",
   "execution_count": 10,
   "metadata": {},
   "outputs": [
    {
     "name": "stderr",
     "output_type": "stream",
     "text": [
      "25413it [05:14, 80.73it/s] \n"
     ]
    }
   ],
   "source": [
    "\n",
    "test_hand_features_mat= hand_features(test_head_fea, test_body_fea)\n"
   ]
  },
  {
   "cell_type": "code",
   "execution_count": 11,
   "metadata": {},
   "outputs": [],
   "source": [
    "df_test_hand = pd.DataFrame(data=np.array(test_hand_features_mat).astype(float))\n",
    "df_test_hand.to_csv('test_hand_features.csv', sep=' ', header=False, float_format='%.8f', index=False)"
   ]
  },
  {
   "cell_type": "code",
   "execution_count": 12,
   "metadata": {},
   "outputs": [
    {
     "name": "stdout",
     "output_type": "stream",
     "text": [
      "<class 'numpy.ndarray'>\n"
     ]
    }
   ],
   "source": [
    "print(type(test_hand_features_mat))"
   ]
  },
  {
   "cell_type": "code",
   "execution_count": 13,
   "metadata": {},
   "outputs": [
    {
     "name": "stdout",
     "output_type": "stream",
     "text": [
      "ok\n"
     ]
    }
   ],
   "source": [
    "train_final_fea= train_hand_features_mat\n",
    "test_final_fea= test_hand_features_mat\n",
    "print (\"ok\")"
   ]
  },
  {
   "cell_type": "code",
   "execution_count": 14,
   "metadata": {},
   "outputs": [],
   "source": [
    "train_labels= trainFile['Stance'].copy()\n",
    "test_labels= testFile['Stance'].copy()"
   ]
  },
  {
   "cell_type": "code",
   "execution_count": 15,
   "metadata": {},
   "outputs": [
    {
     "data": {
      "text/plain": [
       "0.8121433911777437"
      ]
     },
     "execution_count": 15,
     "metadata": {},
     "output_type": "execute_result"
    }
   ],
   "source": [
    "#<-------MODEL---------->\n",
    "\n",
    "from sklearn.metrics import accuracy_score\n",
    "\n",
    "\n",
    "from sklearn.naive_bayes import MultinomialNB\n",
    "\n",
    "mnb = MultinomialNB(alpha=0.35)\n",
    "mnb.fit(train_final_fea, train_labels)\n",
    "#testing naive bayes\n",
    "prediction = mnb.predict(test_final_fea)\n",
    "accuracy_score(test_labels,prediction)"
   ]
  },
  {
   "cell_type": "code",
   "execution_count": 16,
   "metadata": {},
   "outputs": [
    {
     "data": {
      "text/plain": [
       "['model_mnb.pkl']"
      ]
     },
     "execution_count": 16,
     "metadata": {},
     "output_type": "execute_result"
    }
   ],
   "source": [
    "from sklearn.externals import joblib\n",
    "\n",
    "joblib.dump(mnb, 'model_mnb.pkl')"
   ]
  },
  {
   "cell_type": "code",
   "execution_count": null,
   "metadata": {},
   "outputs": [],
   "source": []
  },
  {
   "cell_type": "code",
   "execution_count": null,
   "metadata": {},
   "outputs": [],
   "source": []
  },
  {
   "cell_type": "code",
   "execution_count": null,
   "metadata": {},
   "outputs": [],
   "source": []
  }
 ],
 "metadata": {
  "kernelspec": {
   "display_name": "Python 3",
   "language": "python",
   "name": "python3"
  },
  "language_info": {
   "codemirror_mode": {
    "name": "ipython",
    "version": 3
   },
   "file_extension": ".py",
   "mimetype": "text/x-python",
   "name": "python",
   "nbconvert_exporter": "python",
   "pygments_lexer": "ipython3",
   "version": "3.6.7"
  }
 },
 "nbformat": 4,
 "nbformat_minor": 2
}
